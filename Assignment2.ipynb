{
 "cells": [
  {
   "cell_type": "markdown",
   "id": "57814018-ec94-458d-930e-b53810fabee3",
   "metadata": {
    "tags": []
   },
   "source": [
    "## Implement Fibonacci series using recursion"
   ]
  },
  {
   "cell_type": "markdown",
   "id": "70984b76-3817-43e4-bc82-5ed1b150352b",
   "metadata": {},
   "source": [
    "The Fibonacci sequence is a type series where each number is the sum of the two that precede it.\n",
    "\n",
    "It starts from 0 and 1 usually. The Fibonacci sequence is given by 0, 1, 1, 2, 3, 5, 8, 13, 21, 34, 55, 89, 144, and so on.\n",
    "\n",
    "The numbers in the Fibonacci sequence are also called Fibonacci numbers."
   ]
  },
  {
   "cell_type": "code",
   "execution_count": 1,
   "id": "4cfb5abb-f858-43a4-a709-895ecc1af476",
   "metadata": {},
   "outputs": [
    {
     "name": "stdin",
     "output_type": "stream",
     "text": [
      "Enter number of Terms you need:  15\n"
     ]
    },
    {
     "name": "stdout",
     "output_type": "stream",
     "text": [
      "Fibonacci sequence:\n",
      "0\n",
      "1\n",
      "1\n",
      "2\n",
      "3\n",
      "5\n",
      "8\n",
      "13\n",
      "21\n",
      "34\n",
      "55\n",
      "89\n",
      "144\n",
      "233\n",
      "377\n"
     ]
    }
   ],
   "source": [
    "terms = int(input('Enter number of Terms you need: '))\n",
    "\n",
    "\n",
    "def fibonacci(g):\n",
    "   if g <= 1:\n",
    "       return g\n",
    "   else:\n",
    "       return(fibonacci(g-1) + fibonacci(g-2))\n",
    "       \n",
    "\n",
    "if terms <= 0:\n",
    "   print(\"Plese enter a positive integer and more than 0\")\n",
    "else:\n",
    "   print(\"Fibonacci sequence:\")\n",
    "\n",
    "for i in range(terms):\n",
    "   print(fibonacci(i))"
   ]
  },
  {
   "cell_type": "markdown",
   "id": "877b72fa-24a7-441b-844e-1cc03be9a160",
   "metadata": {},
   "source": [
    "# "
   ]
  },
  {
   "cell_type": "markdown",
   "id": "671fa31e-8b73-43b1-ada4-083711e0a63b",
   "metadata": {},
   "source": [
    "## Write a function that will take a given string and reverse the order of the words."
   ]
  },
  {
   "cell_type": "markdown",
   "id": "357d89a9-466a-4801-b685-74db198494e4",
   "metadata": {},
   "source": [
    "Ex1: “Hello world” becomes “world Hello”"
   ]
  },
  {
   "cell_type": "markdown",
   "id": "70df566c-d16a-4daf-a162-ca84a9c72256",
   "metadata": {},
   "source": [
    "Ex2: “May the Fourth be with you” becomes “you with be Fourth the May”"
   ]
  },
  {
   "cell_type": "code",
   "execution_count": 1,
   "id": "9c71b426-3a09-4cd2-9e95-13efeaf9bd60",
   "metadata": {},
   "outputs": [
    {
     "name": "stdin",
     "output_type": "stream",
     "text": [
      "Enter any sentece to reverse it:  May the Fourth be with you\n"
     ]
    },
    {
     "name": "stdout",
     "output_type": "stream",
     "text": [
      "you with be Fourth the May\n"
     ]
    }
   ],
   "source": [
    "# String input with split it with spaces to use it function in indexing and slicing in next step, Can the user enter any sentence to reverse it.\n",
    "Str = input('Enter any sentece to reverse it: ').split()\n",
    "\n",
    "\n",
    "# I creating a function to call it any time when i'm needed it\n",
    "def ReverseOrder(Str):\n",
    "    \n",
    "    # for loop to indexing on word word sequencly \n",
    "    for i in Str:\n",
    "        \n",
    "    # need the length of my input to start with it in slicing i need it variable not fixed\n",
    "        y = len(Str)\n",
    "        \n",
    "    # slicing with all sentence and reverse it [Str::-1]\n",
    "        z = Str[y::-1]\n",
    "        \n",
    "    # but it stored in list we need to change it to string so i used join function with one space\n",
    "        print(' '.join(z))\n",
    "    # break to out directly when the conditions is okay not print the out many times\n",
    "        break\n",
    "\n",
    "# Make calling to my function i created\n",
    "ReverseOrder(Str) "
   ]
  },
  {
   "cell_type": "markdown",
   "id": "34162464-3d11-4eff-90ac-101c6a3b11b4",
   "metadata": {},
   "source": [
    "## Write a function, primeNumberDetector, that tests if a number, n is a prime number."
   ]
  },
  {
   "cell_type": "markdown",
   "id": "4b1eb9c3-925d-4926-8303-043dbe6199ce",
   "metadata": {},
   "source": [
    "Prime numbers are numbers that have only 2 factors: 1 and themselves and greater than 1"
   ]
  },
  {
   "cell_type": "markdown",
   "id": "5f30697e-3471-4f0c-93e1-248e6f7c0236",
   "metadata": {},
   "source": [
    "Ex1: '2' can divide by '2' and '1' (only two factors) not any number more so 2 is prime number"
   ]
  },
  {
   "cell_type": "markdown",
   "id": "d1a94a25-8dd3-4470-8df2-1392d0f11efa",
   "metadata": {},
   "source": [
    "Ex2: 15 can divide by '1' , '3' , '5' , and '15' (thats not two factors only) it's more than two factors so 15 not prime number"
   ]
  },
  {
   "cell_type": "code",
   "execution_count": 2,
   "id": "f0f78153-61c9-4a6a-b908-57d1b56a9505",
   "metadata": {},
   "outputs": [
    {
     "name": "stdout",
     "output_type": "stream",
     "text": [
      "Check if it a prime number or not\n"
     ]
    },
    {
     "name": "stdin",
     "output_type": "stream",
     "text": [
      "Prime Number Detector:  15\n"
     ]
    },
    {
     "name": "stdout",
     "output_type": "stream",
     "text": [
      "It is NOT a PRIME NUMBER\n"
     ]
    }
   ],
   "source": [
    "print('Check if it a prime number or not')\n",
    "\n",
    "x = int(input('Prime Number Detector: '))\n",
    "\n",
    "# if x less than '1' or equal '1' it is not a prime number else print('It is NOT a PRIME NUMBER') \n",
    "if x > 1 :\n",
    "\n",
    "    for i in range(2,int(x/2)+1):\n",
    "        \n",
    "        if x % i == 0:\n",
    "            print('It is NOT a PRIME NUMBER')\n",
    "            break\n",
    "            \n",
    "    else:\n",
    "        print('It is a PRIME NUMBER')\n",
    "        print(i)\n",
    "            \n",
    "else:\n",
    "    print('It is NOT a PRIME NUMBER')"
   ]
  },
  {
   "cell_type": "markdown",
   "id": "bc2f2f03-e032-444b-b531-7278a1122d48",
   "metadata": {},
   "source": [
    "# "
   ]
  },
  {
   "cell_type": "markdown",
   "id": "c275c724-58fa-4553-b24f-4fb39a75bcba",
   "metadata": {},
   "source": [
    "## Given an integer x, return true if x is a palindrome, and false otherwise."
   ]
  },
  {
   "cell_type": "markdown",
   "id": "6fdca104-0913-4155-a98a-aac11ebdb17e",
   "metadata": {},
   "source": [
    "Ex1: \n",
    "\n",
    "Input: x = 121\n",
    "\n",
    "Output: true \n",
    "\n",
    "Explanation: 121 reads as 121 from left to right and from right to left."
   ]
  },
  {
   "cell_type": "markdown",
   "id": "3504c886-1c30-4045-b1f4-d01945aa73f4",
   "metadata": {},
   "source": [
    "Ex2:\n",
    "\n",
    "Input: x = -121\n",
    "\n",
    "Output: false\n",
    "\n",
    "Explanation: From left to right, it reads -121. From right to left, it becomes 121-. Therefore, it is not a palindrome."
   ]
  },
  {
   "cell_type": "markdown",
   "id": "b4fab378-175c-4bbe-8376-9bf7c1fb392a",
   "metadata": {},
   "source": [
    "Ex3:\n",
    "\n",
    "Input: x = 10\n",
    "\n",
    "Output: false\n",
    "\n",
    "Explanation: Reads 01 from right to left. Therefore, it is not a palindrome."
   ]
  },
  {
   "cell_type": "code",
   "execution_count": 3,
   "id": "b9c750cf-f3fb-42ef-b9df-a1d33da26ee9",
   "metadata": {},
   "outputs": [
    {
     "name": "stdin",
     "output_type": "stream",
     "text": [
      "Check if x Palindrome:   -121\n"
     ]
    },
    {
     "name": "stdout",
     "output_type": "stream",
     "text": [
      "x NOT Palindrome\n"
     ]
    },
    {
     "data": {
      "text/plain": [
       "False"
      ]
     },
     "execution_count": 3,
     "metadata": {},
     "output_type": "execute_result"
    }
   ],
   "source": [
    "# 1st Method\n",
    "\n",
    "# it work on strings and integars also\n",
    "\n",
    "x = input('Check if x Palindrome:  ')\n",
    "y = len(x)\n",
    "z = 0\n",
    "\n",
    "def palindrome(x):\n",
    "    for i in x:\n",
    "        global y\n",
    "        global z\n",
    "        \n",
    "        if x[y-1] == x[z]:\n",
    "            y-=y\n",
    "            z+=y\n",
    "            print('x is Palindrome')\n",
    "            return True\n",
    "            break\n",
    "            \n",
    "        else:\n",
    "            print('x NOT Palindrome')\n",
    "            return False\n",
    "            break\n",
    "\n",
    "palindrome(x)"
   ]
  },
  {
   "cell_type": "code",
   "execution_count": 4,
   "id": "fb45c355-d0ac-4231-949f-208233ccf25b",
   "metadata": {},
   "outputs": [
    {
     "name": "stdin",
     "output_type": "stream",
     "text": [
      "Enter numbers with respect space between any seprated two number to check if it Palindrome or NOT:  -1 2 1\n"
     ]
    },
    {
     "name": "stdout",
     "output_type": "stream",
     "text": [
      "x NOT Palindrome\n"
     ]
    },
    {
     "data": {
      "text/plain": [
       "False"
      ]
     },
     "execution_count": 4,
     "metadata": {},
     "output_type": "execute_result"
    }
   ],
   "source": [
    "# 2nd Method\n",
    "\n",
    "# we can enter it in try and except to handle it if we have error of type\n",
    "# or we can make condition to check if it integer type or not if not print it is type error insert integer only\n",
    "# works on integers only\n",
    "\n",
    "num = [int(x) for x in input('Enter numbers with respect space between any seprated two number to check if it Palindrome or NOT: ').split()]\n",
    "\n",
    "def Palindrome(num):\n",
    "\n",
    "    y = len(num)\n",
    "    n = 0\n",
    "    for i in num:\n",
    "        if num[n] == num[y-1]:\n",
    "            n+=1\n",
    "            y-=1\n",
    "            print('x is Palindrome')\n",
    "            return True\n",
    "            break\n",
    "\n",
    "        else:\n",
    "            print('x NOT Palindrome')\n",
    "            return False\n",
    "            break\n",
    "\n",
    "Palindrome(num)"
   ]
  }
 ],
 "metadata": {
  "kernelspec": {
   "display_name": "Python 3 (ipykernel)",
   "language": "python",
   "name": "python3"
  },
  "language_info": {
   "codemirror_mode": {
    "name": "ipython",
    "version": 3
   },
   "file_extension": ".py",
   "mimetype": "text/x-python",
   "name": "python",
   "nbconvert_exporter": "python",
   "pygments_lexer": "ipython3",
   "version": "3.9.12"
  }
 },
 "nbformat": 4,
 "nbformat_minor": 5
}
